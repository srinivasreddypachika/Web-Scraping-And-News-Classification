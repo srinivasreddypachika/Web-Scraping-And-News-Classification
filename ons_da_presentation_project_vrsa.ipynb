{
 "cells": [
  {
   "cell_type": "code",
   "execution_count": 81,
   "metadata": {},
   "outputs": [],
   "source": [
    "import requests\n",
    "from bs4 import BeautifulSoup\n",
    "import pandas as pd\n",
    "import numpy as np\n",
    "import matplotlib.pyplot as plt\n",
    "import seaborn as sns\n",
    "import os\n",
    "%matplotlib inline"
   ]
  },
  {
   "cell_type": "markdown",
   "metadata": {},
   "source": [
    "# Scaping news articles from inshorts.com from three categories technology,sports and world."
   ]
  },
  {
   "cell_type": "code",
   "execution_count": 82,
   "metadata": {},
   "outputs": [],
   "source": [
    "seed_urls = ['https://inshorts.com/en/read/technology',\n",
    "             'https://inshorts.com/en/read/sports',\n",
    "             'https://inshorts.com/en/read/world']\n",
    "\n",
    "def build_dataset(seed_urls):\n",
    "    news_data = []\n",
    "    for url in seed_urls:\n",
    "        news_category = url.split('/')[-1]\n",
    "        data = requests.get(url)\n",
    "        soup = BeautifulSoup(data.content, 'html.parser')\n",
    "        \n",
    "        news_articles = [{'news_headline': headline.find('span', \n",
    "                                                         attrs={\"itemprop\": \"headline\"}).string,\n",
    "                          'news_article': article.find('div', \n",
    "                                                       attrs={\"itemprop\": \"articleBody\"}).string,\n",
    "                          'news_category': news_category}\n",
    "                         \n",
    "                            for headline, article in \n",
    "                             zip(soup.find_all('div', \n",
    "                                               class_=[\"news-card-title news-right-box\"]),\n",
    "                                 soup.find_all('div', \n",
    "                                               class_=[\"news-card-content news-right-box\"]))\n",
    "                        ]\n",
    "        news_data.extend(news_articles)\n",
    "        \n",
    "    df =  pd.DataFrame(news_data)\n",
    "    df = df[['news_headline', 'news_article', 'news_category']]\n",
    "    return df"
   ]
  },
  {
   "cell_type": "code",
   "execution_count": 83,
   "metadata": {},
   "outputs": [
    {
     "data": {
      "text/html": [
       "<div>\n",
       "<style scoped>\n",
       "    .dataframe tbody tr th:only-of-type {\n",
       "        vertical-align: middle;\n",
       "    }\n",
       "\n",
       "    .dataframe tbody tr th {\n",
       "        vertical-align: top;\n",
       "    }\n",
       "\n",
       "    .dataframe thead th {\n",
       "        text-align: right;\n",
       "    }\n",
       "</style>\n",
       "<table border=\"1\" class=\"dataframe\">\n",
       "  <thead>\n",
       "    <tr style=\"text-align: right;\">\n",
       "      <th></th>\n",
       "      <th>news_headline</th>\n",
       "      <th>news_article</th>\n",
       "      <th>news_category</th>\n",
       "    </tr>\n",
       "  </thead>\n",
       "  <tbody>\n",
       "    <tr>\n",
       "      <th>0</th>\n",
       "      <td>OnePlus 8 Pro to feature super fast 30W wirele...</td>\n",
       "      <td>The first OnePlus phone to support wireless ch...</td>\n",
       "      <td>technology</td>\n",
       "    </tr>\n",
       "    <tr>\n",
       "      <th>1</th>\n",
       "      <td>Twitter CEO to donate 28% of wealth for COVID-...</td>\n",
       "      <td>Twitter CEO Jack Dorsey has pledged $1 billion...</td>\n",
       "      <td>technology</td>\n",
       "    </tr>\n",
       "    <tr>\n",
       "      <th>2</th>\n",
       "      <td>Google Search for 'Living room concert' increa...</td>\n",
       "      <td>Google Trends data shows the search for 'Livin...</td>\n",
       "      <td>technology</td>\n",
       "    </tr>\n",
       "    <tr>\n",
       "      <th>3</th>\n",
       "      <td>Apple plans to hire more than 1,000 interns am...</td>\n",
       "      <td>Apple in a statement to Axios said it plans to...</td>\n",
       "      <td>technology</td>\n",
       "    </tr>\n",
       "    <tr>\n",
       "      <th>4</th>\n",
       "      <td>Apple CEO Tim Cook to hold virtual Q&amp;A with em...</td>\n",
       "      <td>Apple will organise a company-wide virtual mee...</td>\n",
       "      <td>technology</td>\n",
       "    </tr>\n",
       "    <tr>\n",
       "      <th>5</th>\n",
       "      <td>Google launches 'braille keyboard' for vision-...</td>\n",
       "      <td>Google has started rolling out a braille keybo...</td>\n",
       "      <td>technology</td>\n",
       "    </tr>\n",
       "    <tr>\n",
       "      <th>6</th>\n",
       "      <td>Facebook launches messaging app 'Tuned' for co...</td>\n",
       "      <td>Facebook's New Product Experimentation (NPE) T...</td>\n",
       "      <td>technology</td>\n",
       "    </tr>\n",
       "    <tr>\n",
       "      <th>7</th>\n",
       "      <td>WhatsApp makes group calling easier amid coron...</td>\n",
       "      <td>WhatsApp has made it easier to start a group c...</td>\n",
       "      <td>technology</td>\n",
       "    </tr>\n",
       "    <tr>\n",
       "      <th>8</th>\n",
       "      <td>Google bans Zoom from employees' laptops over ...</td>\n",
       "      <td>Google has banned Zoom video conferencing appl...</td>\n",
       "      <td>technology</td>\n",
       "    </tr>\n",
       "    <tr>\n",
       "      <th>9</th>\n",
       "      <td>Kenyan runners run solo half marathons for vir...</td>\n",
       "      <td>A group of 30 Kenyan runners from across the c...</td>\n",
       "      <td>technology</td>\n",
       "    </tr>\n",
       "  </tbody>\n",
       "</table>\n",
       "</div>"
      ],
      "text/plain": [
       "                                       news_headline  \\\n",
       "0  OnePlus 8 Pro to feature super fast 30W wirele...   \n",
       "1  Twitter CEO to donate 28% of wealth for COVID-...   \n",
       "2  Google Search for 'Living room concert' increa...   \n",
       "3  Apple plans to hire more than 1,000 interns am...   \n",
       "4  Apple CEO Tim Cook to hold virtual Q&A with em...   \n",
       "5  Google launches 'braille keyboard' for vision-...   \n",
       "6  Facebook launches messaging app 'Tuned' for co...   \n",
       "7  WhatsApp makes group calling easier amid coron...   \n",
       "8  Google bans Zoom from employees' laptops over ...   \n",
       "9  Kenyan runners run solo half marathons for vir...   \n",
       "\n",
       "                                        news_article news_category  \n",
       "0  The first OnePlus phone to support wireless ch...    technology  \n",
       "1  Twitter CEO Jack Dorsey has pledged $1 billion...    technology  \n",
       "2  Google Trends data shows the search for 'Livin...    technology  \n",
       "3  Apple in a statement to Axios said it plans to...    technology  \n",
       "4  Apple will organise a company-wide virtual mee...    technology  \n",
       "5  Google has started rolling out a braille keybo...    technology  \n",
       "6  Facebook's New Product Experimentation (NPE) T...    technology  \n",
       "7  WhatsApp has made it easier to start a group c...    technology  \n",
       "8  Google has banned Zoom video conferencing appl...    technology  \n",
       "9  A group of 30 Kenyan runners from across the c...    technology  "
      ]
     },
     "execution_count": 83,
     "metadata": {},
     "output_type": "execute_result"
    }
   ],
   "source": [
    "news_df = build_dataset(seed_urls)\n",
    "news_df.head(10)"
   ]
  },
  {
   "cell_type": "code",
   "execution_count": 84,
   "metadata": {
    "scrolled": true
   },
   "outputs": [
    {
     "data": {
      "text/plain": [
       "world         25\n",
       "technology    24\n",
       "sports        23\n",
       "Name: news_category, dtype: int64"
      ]
     },
     "execution_count": 84,
     "metadata": {},
     "output_type": "execute_result"
    }
   ],
   "source": [
    "news_df.news_category.value_counts()"
   ]
  },
  {
   "cell_type": "code",
   "execution_count": null,
   "metadata": {},
   "outputs": [],
   "source": []
  },
  {
   "cell_type": "code",
   "execution_count": 89,
   "metadata": {},
   "outputs": [
    {
     "data": {
      "text/html": [
       "<div>\n",
       "<style scoped>\n",
       "    .dataframe tbody tr th:only-of-type {\n",
       "        vertical-align: middle;\n",
       "    }\n",
       "\n",
       "    .dataframe tbody tr th {\n",
       "        vertical-align: top;\n",
       "    }\n",
       "\n",
       "    .dataframe thead th {\n",
       "        text-align: right;\n",
       "    }\n",
       "</style>\n",
       "<table border=\"1\" class=\"dataframe\">\n",
       "  <thead>\n",
       "    <tr style=\"text-align: right;\">\n",
       "      <th></th>\n",
       "      <th>news_headline</th>\n",
       "      <th>news_article</th>\n",
       "      <th>news_category</th>\n",
       "    </tr>\n",
       "  </thead>\n",
       "  <tbody>\n",
       "    <tr>\n",
       "      <th>0</th>\n",
       "      <td>OnePlus 8 Pro to feature super fast 30W wirele...</td>\n",
       "      <td>The first OnePlus phone to support wireless ch...</td>\n",
       "      <td>technology</td>\n",
       "    </tr>\n",
       "    <tr>\n",
       "      <th>1</th>\n",
       "      <td>Twitter CEO to donate 28% of wealth for COVID-...</td>\n",
       "      <td>Twitter CEO Jack Dorsey has pledged $1 billion...</td>\n",
       "      <td>technology</td>\n",
       "    </tr>\n",
       "    <tr>\n",
       "      <th>2</th>\n",
       "      <td>Google Search for 'Living room concert' increa...</td>\n",
       "      <td>Google Trends data shows the search for 'Livin...</td>\n",
       "      <td>technology</td>\n",
       "    </tr>\n",
       "    <tr>\n",
       "      <th>3</th>\n",
       "      <td>Apple plans to hire more than 1,000 interns am...</td>\n",
       "      <td>Apple in a statement to Axios said it plans to...</td>\n",
       "      <td>technology</td>\n",
       "    </tr>\n",
       "    <tr>\n",
       "      <th>4</th>\n",
       "      <td>Apple CEO Tim Cook to hold virtual Q&amp;A with em...</td>\n",
       "      <td>Apple will organise a company-wide virtual mee...</td>\n",
       "      <td>technology</td>\n",
       "    </tr>\n",
       "  </tbody>\n",
       "</table>\n",
       "</div>"
      ],
      "text/plain": [
       "                                       news_headline  \\\n",
       "0  OnePlus 8 Pro to feature super fast 30W wirele...   \n",
       "1  Twitter CEO to donate 28% of wealth for COVID-...   \n",
       "2  Google Search for 'Living room concert' increa...   \n",
       "3  Apple plans to hire more than 1,000 interns am...   \n",
       "4  Apple CEO Tim Cook to hold virtual Q&A with em...   \n",
       "\n",
       "                                        news_article news_category  \n",
       "0  The first OnePlus phone to support wireless ch...    technology  \n",
       "1  Twitter CEO Jack Dorsey has pledged $1 billion...    technology  \n",
       "2  Google Trends data shows the search for 'Livin...    technology  \n",
       "3  Apple in a statement to Axios said it plans to...    technology  \n",
       "4  Apple will organise a company-wide virtual mee...    technology  "
      ]
     },
     "execution_count": 89,
     "metadata": {},
     "output_type": "execute_result"
    }
   ],
   "source": [
    "news_df.head()"
   ]
  },
  {
   "cell_type": "markdown",
   "metadata": {},
   "source": [
    "# Scoring subjectivity and polarity of news articles using Text Blob"
   ]
  },
  {
   "cell_type": "code",
   "execution_count": 90,
   "metadata": {},
   "outputs": [],
   "source": [
    "from textblob import TextBlob"
   ]
  },
  {
   "cell_type": "code",
   "execution_count": 91,
   "metadata": {},
   "outputs": [],
   "source": [
    "# Create a function to get the subjectivity\n",
    "def getSubjectivity(text):\n",
    "   return TextBlob(text).sentiment.subjectivity\n",
    "\n",
    "# Create a function to get the polarity\n",
    "def getPolarity(text):\n",
    "   return  TextBlob(text).sentiment.polarity"
   ]
  },
  {
   "cell_type": "code",
   "execution_count": 92,
   "metadata": {},
   "outputs": [
    {
     "data": {
      "text/html": [
       "<div>\n",
       "<style scoped>\n",
       "    .dataframe tbody tr th:only-of-type {\n",
       "        vertical-align: middle;\n",
       "    }\n",
       "\n",
       "    .dataframe tbody tr th {\n",
       "        vertical-align: top;\n",
       "    }\n",
       "\n",
       "    .dataframe thead th {\n",
       "        text-align: right;\n",
       "    }\n",
       "</style>\n",
       "<table border=\"1\" class=\"dataframe\">\n",
       "  <thead>\n",
       "    <tr style=\"text-align: right;\">\n",
       "      <th></th>\n",
       "      <th>news_headline</th>\n",
       "      <th>news_article</th>\n",
       "      <th>news_category</th>\n",
       "      <th>Subjectivity</th>\n",
       "      <th>Polarity</th>\n",
       "    </tr>\n",
       "  </thead>\n",
       "  <tbody>\n",
       "    <tr>\n",
       "      <th>0</th>\n",
       "      <td>OnePlus 8 Pro to feature super fast 30W wirele...</td>\n",
       "      <td>The first OnePlus phone to support wireless ch...</td>\n",
       "      <td>technology</td>\n",
       "      <td>0.333333</td>\n",
       "      <td>0.250000</td>\n",
       "    </tr>\n",
       "    <tr>\n",
       "      <th>1</th>\n",
       "      <td>Twitter CEO to donate 28% of wealth for COVID-...</td>\n",
       "      <td>Twitter CEO Jack Dorsey has pledged $1 billion...</td>\n",
       "      <td>technology</td>\n",
       "      <td>0.391667</td>\n",
       "      <td>-0.083333</td>\n",
       "    </tr>\n",
       "    <tr>\n",
       "      <th>2</th>\n",
       "      <td>Google Search for 'Living room concert' increa...</td>\n",
       "      <td>Google Trends data shows the search for 'Livin...</td>\n",
       "      <td>technology</td>\n",
       "      <td>0.612500</td>\n",
       "      <td>0.279167</td>\n",
       "    </tr>\n",
       "    <tr>\n",
       "      <th>3</th>\n",
       "      <td>Apple plans to hire more than 1,000 interns am...</td>\n",
       "      <td>Apple in a statement to Axios said it plans to...</td>\n",
       "      <td>technology</td>\n",
       "      <td>0.333333</td>\n",
       "      <td>0.125000</td>\n",
       "    </tr>\n",
       "    <tr>\n",
       "      <th>4</th>\n",
       "      <td>Apple CEO Tim Cook to hold virtual Q&amp;A with em...</td>\n",
       "      <td>Apple will organise a company-wide virtual mee...</td>\n",
       "      <td>technology</td>\n",
       "      <td>0.000000</td>\n",
       "      <td>0.000000</td>\n",
       "    </tr>\n",
       "  </tbody>\n",
       "</table>\n",
       "</div>"
      ],
      "text/plain": [
       "                                       news_headline  \\\n",
       "0  OnePlus 8 Pro to feature super fast 30W wirele...   \n",
       "1  Twitter CEO to donate 28% of wealth for COVID-...   \n",
       "2  Google Search for 'Living room concert' increa...   \n",
       "3  Apple plans to hire more than 1,000 interns am...   \n",
       "4  Apple CEO Tim Cook to hold virtual Q&A with em...   \n",
       "\n",
       "                                        news_article news_category  \\\n",
       "0  The first OnePlus phone to support wireless ch...    technology   \n",
       "1  Twitter CEO Jack Dorsey has pledged $1 billion...    technology   \n",
       "2  Google Trends data shows the search for 'Livin...    technology   \n",
       "3  Apple in a statement to Axios said it plans to...    technology   \n",
       "4  Apple will organise a company-wide virtual mee...    technology   \n",
       "\n",
       "   Subjectivity  Polarity  \n",
       "0      0.333333  0.250000  \n",
       "1      0.391667 -0.083333  \n",
       "2      0.612500  0.279167  \n",
       "3      0.333333  0.125000  \n",
       "4      0.000000  0.000000  "
      ]
     },
     "execution_count": 92,
     "metadata": {},
     "output_type": "execute_result"
    }
   ],
   "source": [
    "# Create two new columns 'Subjectivity' & 'Polarity'\n",
    "news_df['Subjectivity'] = news_df[\"news_article\"].apply(getSubjectivity)\n",
    "news_df['Polarity'] = news_df[\"news_article\"].apply(getPolarity)\n",
    "\n",
    "# Show the new dataframe with columns 'Subjectivity' & 'Polarity'\n",
    "news_df.head()"
   ]
  },
  {
   "cell_type": "code",
   "execution_count": 93,
   "metadata": {},
   "outputs": [
    {
     "data": {
      "text/html": [
       "<div>\n",
       "<style scoped>\n",
       "    .dataframe tbody tr th:only-of-type {\n",
       "        vertical-align: middle;\n",
       "    }\n",
       "\n",
       "    .dataframe tbody tr th {\n",
       "        vertical-align: top;\n",
       "    }\n",
       "\n",
       "    .dataframe thead th {\n",
       "        text-align: right;\n",
       "    }\n",
       "</style>\n",
       "<table border=\"1\" class=\"dataframe\">\n",
       "  <thead>\n",
       "    <tr style=\"text-align: right;\">\n",
       "      <th></th>\n",
       "      <th>news_headline</th>\n",
       "      <th>news_article</th>\n",
       "      <th>news_category</th>\n",
       "      <th>Subjectivity</th>\n",
       "      <th>Polarity</th>\n",
       "      <th>Analysis</th>\n",
       "    </tr>\n",
       "  </thead>\n",
       "  <tbody>\n",
       "    <tr>\n",
       "      <th>0</th>\n",
       "      <td>OnePlus 8 Pro to feature super fast 30W wirele...</td>\n",
       "      <td>The first OnePlus phone to support wireless ch...</td>\n",
       "      <td>technology</td>\n",
       "      <td>0.333333</td>\n",
       "      <td>0.250000</td>\n",
       "      <td>Positive</td>\n",
       "    </tr>\n",
       "    <tr>\n",
       "      <th>1</th>\n",
       "      <td>Twitter CEO to donate 28% of wealth for COVID-...</td>\n",
       "      <td>Twitter CEO Jack Dorsey has pledged $1 billion...</td>\n",
       "      <td>technology</td>\n",
       "      <td>0.391667</td>\n",
       "      <td>-0.083333</td>\n",
       "      <td>Negative</td>\n",
       "    </tr>\n",
       "    <tr>\n",
       "      <th>2</th>\n",
       "      <td>Google Search for 'Living room concert' increa...</td>\n",
       "      <td>Google Trends data shows the search for 'Livin...</td>\n",
       "      <td>technology</td>\n",
       "      <td>0.612500</td>\n",
       "      <td>0.279167</td>\n",
       "      <td>Positive</td>\n",
       "    </tr>\n",
       "    <tr>\n",
       "      <th>3</th>\n",
       "      <td>Apple plans to hire more than 1,000 interns am...</td>\n",
       "      <td>Apple in a statement to Axios said it plans to...</td>\n",
       "      <td>technology</td>\n",
       "      <td>0.333333</td>\n",
       "      <td>0.125000</td>\n",
       "      <td>Positive</td>\n",
       "    </tr>\n",
       "    <tr>\n",
       "      <th>4</th>\n",
       "      <td>Apple CEO Tim Cook to hold virtual Q&amp;A with em...</td>\n",
       "      <td>Apple will organise a company-wide virtual mee...</td>\n",
       "      <td>technology</td>\n",
       "      <td>0.000000</td>\n",
       "      <td>0.000000</td>\n",
       "      <td>Neutral</td>\n",
       "    </tr>\n",
       "  </tbody>\n",
       "</table>\n",
       "</div>"
      ],
      "text/plain": [
       "                                       news_headline  \\\n",
       "0  OnePlus 8 Pro to feature super fast 30W wirele...   \n",
       "1  Twitter CEO to donate 28% of wealth for COVID-...   \n",
       "2  Google Search for 'Living room concert' increa...   \n",
       "3  Apple plans to hire more than 1,000 interns am...   \n",
       "4  Apple CEO Tim Cook to hold virtual Q&A with em...   \n",
       "\n",
       "                                        news_article news_category  \\\n",
       "0  The first OnePlus phone to support wireless ch...    technology   \n",
       "1  Twitter CEO Jack Dorsey has pledged $1 billion...    technology   \n",
       "2  Google Trends data shows the search for 'Livin...    technology   \n",
       "3  Apple in a statement to Axios said it plans to...    technology   \n",
       "4  Apple will organise a company-wide virtual mee...    technology   \n",
       "\n",
       "   Subjectivity  Polarity  Analysis  \n",
       "0      0.333333  0.250000  Positive  \n",
       "1      0.391667 -0.083333  Negative  \n",
       "2      0.612500  0.279167  Positive  \n",
       "3      0.333333  0.125000  Positive  \n",
       "4      0.000000  0.000000   Neutral  "
      ]
     },
     "execution_count": 93,
     "metadata": {},
     "output_type": "execute_result"
    }
   ],
   "source": [
    "# Create a function to compute negative (-1), neutral (0) and positive (+1) analysis\n",
    "def getAnalysis(score):\n",
    " if score < 0:\n",
    "  return 'Negative'\n",
    " elif score == 0:\n",
    "  return 'Neutral'\n",
    " else:\n",
    "  return 'Positive'\n",
    "\n",
    "\n",
    "news_df['Analysis'] = news_df['Polarity'].apply(getAnalysis)\n",
    "\n",
    "# Show the dataframe\n",
    "news_df.head()"
   ]
  },
  {
   "cell_type": "code",
   "execution_count": 94,
   "metadata": {},
   "outputs": [
    {
     "data": {
      "text/html": [
       "<div>\n",
       "<style scoped>\n",
       "    .dataframe tbody tr th:only-of-type {\n",
       "        vertical-align: middle;\n",
       "    }\n",
       "\n",
       "    .dataframe tbody tr th {\n",
       "        vertical-align: top;\n",
       "    }\n",
       "\n",
       "    .dataframe thead th {\n",
       "        text-align: right;\n",
       "    }\n",
       "</style>\n",
       "<table border=\"1\" class=\"dataframe\">\n",
       "  <thead>\n",
       "    <tr style=\"text-align: right;\">\n",
       "      <th></th>\n",
       "      <th>news_headline</th>\n",
       "      <th>news_article</th>\n",
       "      <th>news_category</th>\n",
       "      <th>Subjectivity</th>\n",
       "      <th>Polarity</th>\n",
       "      <th>Analysis</th>\n",
       "    </tr>\n",
       "  </thead>\n",
       "  <tbody>\n",
       "    <tr>\n",
       "      <th>0</th>\n",
       "      <td>OnePlus 8 Pro to feature super fast 30W wirele...</td>\n",
       "      <td>The first OnePlus phone to support wireless ch...</td>\n",
       "      <td>1</td>\n",
       "      <td>0.333333</td>\n",
       "      <td>0.250000</td>\n",
       "      <td>Positive</td>\n",
       "    </tr>\n",
       "    <tr>\n",
       "      <th>1</th>\n",
       "      <td>Twitter CEO to donate 28% of wealth for COVID-...</td>\n",
       "      <td>Twitter CEO Jack Dorsey has pledged $1 billion...</td>\n",
       "      <td>1</td>\n",
       "      <td>0.391667</td>\n",
       "      <td>-0.083333</td>\n",
       "      <td>Negative</td>\n",
       "    </tr>\n",
       "    <tr>\n",
       "      <th>2</th>\n",
       "      <td>Google Search for 'Living room concert' increa...</td>\n",
       "      <td>Google Trends data shows the search for 'Livin...</td>\n",
       "      <td>1</td>\n",
       "      <td>0.612500</td>\n",
       "      <td>0.279167</td>\n",
       "      <td>Positive</td>\n",
       "    </tr>\n",
       "    <tr>\n",
       "      <th>3</th>\n",
       "      <td>Apple plans to hire more than 1,000 interns am...</td>\n",
       "      <td>Apple in a statement to Axios said it plans to...</td>\n",
       "      <td>1</td>\n",
       "      <td>0.333333</td>\n",
       "      <td>0.125000</td>\n",
       "      <td>Positive</td>\n",
       "    </tr>\n",
       "    <tr>\n",
       "      <th>4</th>\n",
       "      <td>Apple CEO Tim Cook to hold virtual Q&amp;A with em...</td>\n",
       "      <td>Apple will organise a company-wide virtual mee...</td>\n",
       "      <td>1</td>\n",
       "      <td>0.000000</td>\n",
       "      <td>0.000000</td>\n",
       "      <td>Neutral</td>\n",
       "    </tr>\n",
       "  </tbody>\n",
       "</table>\n",
       "</div>"
      ],
      "text/plain": [
       "                                       news_headline  \\\n",
       "0  OnePlus 8 Pro to feature super fast 30W wirele...   \n",
       "1  Twitter CEO to donate 28% of wealth for COVID-...   \n",
       "2  Google Search for 'Living room concert' increa...   \n",
       "3  Apple plans to hire more than 1,000 interns am...   \n",
       "4  Apple CEO Tim Cook to hold virtual Q&A with em...   \n",
       "\n",
       "                                        news_article  news_category  \\\n",
       "0  The first OnePlus phone to support wireless ch...              1   \n",
       "1  Twitter CEO Jack Dorsey has pledged $1 billion...              1   \n",
       "2  Google Trends data shows the search for 'Livin...              1   \n",
       "3  Apple in a statement to Axios said it plans to...              1   \n",
       "4  Apple will organise a company-wide virtual mee...              1   \n",
       "\n",
       "   Subjectivity  Polarity  Analysis  \n",
       "0      0.333333  0.250000  Positive  \n",
       "1      0.391667 -0.083333  Negative  \n",
       "2      0.612500  0.279167  Positive  \n",
       "3      0.333333  0.125000  Positive  \n",
       "4      0.000000  0.000000   Neutral  "
      ]
     },
     "execution_count": 94,
     "metadata": {},
     "output_type": "execute_result"
    }
   ],
   "source": [
    "fea_map_1 = {'technology':1, 'sports':2, 'world':3}\n",
    "news_df['news_category'] = news_df['news_category'].map(fea_map_1)\n",
    "news_df.head()"
   ]
  },
  {
   "cell_type": "code",
   "execution_count": 95,
   "metadata": {},
   "outputs": [
    {
     "data": {
      "text/html": [
       "<div>\n",
       "<style scoped>\n",
       "    .dataframe tbody tr th:only-of-type {\n",
       "        vertical-align: middle;\n",
       "    }\n",
       "\n",
       "    .dataframe tbody tr th {\n",
       "        vertical-align: top;\n",
       "    }\n",
       "\n",
       "    .dataframe thead th {\n",
       "        text-align: right;\n",
       "    }\n",
       "</style>\n",
       "<table border=\"1\" class=\"dataframe\">\n",
       "  <thead>\n",
       "    <tr style=\"text-align: right;\">\n",
       "      <th></th>\n",
       "      <th>news_headline</th>\n",
       "      <th>news_article</th>\n",
       "      <th>news_category</th>\n",
       "      <th>Subjectivity</th>\n",
       "      <th>Polarity</th>\n",
       "      <th>Analysis</th>\n",
       "    </tr>\n",
       "  </thead>\n",
       "  <tbody>\n",
       "    <tr>\n",
       "      <th>0</th>\n",
       "      <td>OnePlus 8 Pro to feature super fast 30W wirele...</td>\n",
       "      <td>The first OnePlus phone to support wireless ch...</td>\n",
       "      <td>1</td>\n",
       "      <td>0.333333</td>\n",
       "      <td>0.250000</td>\n",
       "      <td>1</td>\n",
       "    </tr>\n",
       "    <tr>\n",
       "      <th>1</th>\n",
       "      <td>Twitter CEO to donate 28% of wealth for COVID-...</td>\n",
       "      <td>Twitter CEO Jack Dorsey has pledged $1 billion...</td>\n",
       "      <td>1</td>\n",
       "      <td>0.391667</td>\n",
       "      <td>-0.083333</td>\n",
       "      <td>-1</td>\n",
       "    </tr>\n",
       "    <tr>\n",
       "      <th>2</th>\n",
       "      <td>Google Search for 'Living room concert' increa...</td>\n",
       "      <td>Google Trends data shows the search for 'Livin...</td>\n",
       "      <td>1</td>\n",
       "      <td>0.612500</td>\n",
       "      <td>0.279167</td>\n",
       "      <td>1</td>\n",
       "    </tr>\n",
       "    <tr>\n",
       "      <th>3</th>\n",
       "      <td>Apple plans to hire more than 1,000 interns am...</td>\n",
       "      <td>Apple in a statement to Axios said it plans to...</td>\n",
       "      <td>1</td>\n",
       "      <td>0.333333</td>\n",
       "      <td>0.125000</td>\n",
       "      <td>1</td>\n",
       "    </tr>\n",
       "    <tr>\n",
       "      <th>4</th>\n",
       "      <td>Apple CEO Tim Cook to hold virtual Q&amp;A with em...</td>\n",
       "      <td>Apple will organise a company-wide virtual mee...</td>\n",
       "      <td>1</td>\n",
       "      <td>0.000000</td>\n",
       "      <td>0.000000</td>\n",
       "      <td>0</td>\n",
       "    </tr>\n",
       "  </tbody>\n",
       "</table>\n",
       "</div>"
      ],
      "text/plain": [
       "                                       news_headline  \\\n",
       "0  OnePlus 8 Pro to feature super fast 30W wirele...   \n",
       "1  Twitter CEO to donate 28% of wealth for COVID-...   \n",
       "2  Google Search for 'Living room concert' increa...   \n",
       "3  Apple plans to hire more than 1,000 interns am...   \n",
       "4  Apple CEO Tim Cook to hold virtual Q&A with em...   \n",
       "\n",
       "                                        news_article  news_category  \\\n",
       "0  The first OnePlus phone to support wireless ch...              1   \n",
       "1  Twitter CEO Jack Dorsey has pledged $1 billion...              1   \n",
       "2  Google Trends data shows the search for 'Livin...              1   \n",
       "3  Apple in a statement to Axios said it plans to...              1   \n",
       "4  Apple will organise a company-wide virtual mee...              1   \n",
       "\n",
       "   Subjectivity  Polarity  Analysis  \n",
       "0      0.333333  0.250000         1  \n",
       "1      0.391667 -0.083333        -1  \n",
       "2      0.612500  0.279167         1  \n",
       "3      0.333333  0.125000         1  \n",
       "4      0.000000  0.000000         0  "
      ]
     },
     "execution_count": 95,
     "metadata": {},
     "output_type": "execute_result"
    }
   ],
   "source": [
    "fea_map = {'Neutral':0, 'Positive':1, 'Negative':-1}\n",
    "news_df['Analysis'] = news_df['Analysis'].map(fea_map)\n",
    "news_df.head()"
   ]
  },
  {
   "cell_type": "code",
   "execution_count": 96,
   "metadata": {},
   "outputs": [],
   "source": [
    "data = news_df.drop([\"news_headline\",\"Subjectivity\", \"Polarity\",\"Analysis\"],axis=1)"
   ]
  },
  {
   "cell_type": "code",
   "execution_count": 97,
   "metadata": {},
   "outputs": [
    {
     "data": {
      "text/html": [
       "<div>\n",
       "<style scoped>\n",
       "    .dataframe tbody tr th:only-of-type {\n",
       "        vertical-align: middle;\n",
       "    }\n",
       "\n",
       "    .dataframe tbody tr th {\n",
       "        vertical-align: top;\n",
       "    }\n",
       "\n",
       "    .dataframe thead th {\n",
       "        text-align: right;\n",
       "    }\n",
       "</style>\n",
       "<table border=\"1\" class=\"dataframe\">\n",
       "  <thead>\n",
       "    <tr style=\"text-align: right;\">\n",
       "      <th></th>\n",
       "      <th>news_article</th>\n",
       "      <th>news_category</th>\n",
       "    </tr>\n",
       "  </thead>\n",
       "  <tbody>\n",
       "    <tr>\n",
       "      <th>0</th>\n",
       "      <td>The first OnePlus phone to support wireless ch...</td>\n",
       "      <td>1</td>\n",
       "    </tr>\n",
       "    <tr>\n",
       "      <th>1</th>\n",
       "      <td>Twitter CEO Jack Dorsey has pledged $1 billion...</td>\n",
       "      <td>1</td>\n",
       "    </tr>\n",
       "    <tr>\n",
       "      <th>2</th>\n",
       "      <td>Google Trends data shows the search for 'Livin...</td>\n",
       "      <td>1</td>\n",
       "    </tr>\n",
       "    <tr>\n",
       "      <th>3</th>\n",
       "      <td>Apple in a statement to Axios said it plans to...</td>\n",
       "      <td>1</td>\n",
       "    </tr>\n",
       "    <tr>\n",
       "      <th>4</th>\n",
       "      <td>Apple will organise a company-wide virtual mee...</td>\n",
       "      <td>1</td>\n",
       "    </tr>\n",
       "  </tbody>\n",
       "</table>\n",
       "</div>"
      ],
      "text/plain": [
       "                                        news_article  news_category\n",
       "0  The first OnePlus phone to support wireless ch...              1\n",
       "1  Twitter CEO Jack Dorsey has pledged $1 billion...              1\n",
       "2  Google Trends data shows the search for 'Livin...              1\n",
       "3  Apple in a statement to Axios said it plans to...              1\n",
       "4  Apple will organise a company-wide virtual mee...              1"
      ]
     },
     "execution_count": 97,
     "metadata": {},
     "output_type": "execute_result"
    }
   ],
   "source": [
    "data.head()"
   ]
  },
  {
   "cell_type": "code",
   "execution_count": 112,
   "metadata": {},
   "outputs": [],
   "source": [
    "import re\n",
    "nlp_data = str(data.iloc[:,0])\n",
    "nlp_data = re.sub(\"[^a-zA-Z]\",\" \",nlp_data)"
   ]
  },
  {
   "cell_type": "code",
   "execution_count": 113,
   "metadata": {},
   "outputs": [
    {
     "data": {
      "text/plain": [
       "'      The first OnePlus phone to support wireless ch          Twitter CEO Jack Dorsey has pledged    billion          Google Trends data shows the search for  Livin          Apple in a statement to Axios said it plans to          Apple will organise a company wide virtual mee                                                                  A unilateral two week ceasefire called by the           Doctors in Zimbabwe have filed a lawsuit again          All the lawmakers in Botswana s parliament hav          Maritime and Mercantile International  MMI   a          Mustafa Al Kadhimi  who is the chief of the Ir    Name  news article  Length      dtype  object'"
      ]
     },
     "execution_count": 113,
     "metadata": {},
     "output_type": "execute_result"
    }
   ],
   "source": [
    "nlp_data"
   ]
  },
  {
   "cell_type": "code",
   "execution_count": 114,
   "metadata": {},
   "outputs": [],
   "source": [
    "#After return lower case\n",
    "nlp_data = nlp_data.lower()"
   ]
  },
  {
   "cell_type": "code",
   "execution_count": 115,
   "metadata": {},
   "outputs": [],
   "source": [
    "import nltk as nlp\n",
    "nlp_data = nlp.word_tokenize(nlp_data)\n",
    "#nlp_data = nlp_data.split() or we can do so"
   ]
  },
  {
   "cell_type": "code",
   "execution_count": 116,
   "metadata": {},
   "outputs": [],
   "source": [
    "#we have to find word root\n",
    "lemma = nlp.WordNetLemmatizer()\n",
    "nlp_data = [lemma.lemmatize(word) for word in nlp_data]"
   ]
  },
  {
   "cell_type": "code",
   "execution_count": 117,
   "metadata": {},
   "outputs": [
    {
     "data": {
      "text/plain": [
       "['the',\n",
       " 'first',\n",
       " 'oneplus',\n",
       " 'phone',\n",
       " 'to',\n",
       " 'support',\n",
       " 'wireless',\n",
       " 'ch',\n",
       " 'twitter',\n",
       " 'ceo',\n",
       " 'jack',\n",
       " 'dorsey',\n",
       " 'ha',\n",
       " 'pledged',\n",
       " 'billion',\n",
       " 'google',\n",
       " 'trend',\n",
       " 'data',\n",
       " 'show',\n",
       " 'the',\n",
       " 'search',\n",
       " 'for',\n",
       " 'livin',\n",
       " 'apple',\n",
       " 'in',\n",
       " 'a',\n",
       " 'statement',\n",
       " 'to',\n",
       " 'axios',\n",
       " 'said',\n",
       " 'it',\n",
       " 'plan',\n",
       " 'to',\n",
       " 'apple',\n",
       " 'will',\n",
       " 'organise',\n",
       " 'a',\n",
       " 'company',\n",
       " 'wide',\n",
       " 'virtual',\n",
       " 'mee',\n",
       " 'a',\n",
       " 'unilateral',\n",
       " 'two',\n",
       " 'week',\n",
       " 'ceasefire',\n",
       " 'called',\n",
       " 'by',\n",
       " 'the',\n",
       " 'doctor',\n",
       " 'in',\n",
       " 'zimbabwe',\n",
       " 'have',\n",
       " 'filed',\n",
       " 'a',\n",
       " 'lawsuit',\n",
       " 'again',\n",
       " 'all',\n",
       " 'the',\n",
       " 'lawmaker',\n",
       " 'in',\n",
       " 'botswana',\n",
       " 's',\n",
       " 'parliament',\n",
       " 'hav',\n",
       " 'maritime',\n",
       " 'and',\n",
       " 'mercantile',\n",
       " 'international',\n",
       " 'mmi',\n",
       " 'a',\n",
       " 'mustafa',\n",
       " 'al',\n",
       " 'kadhimi',\n",
       " 'who',\n",
       " 'is',\n",
       " 'the',\n",
       " 'chief',\n",
       " 'of',\n",
       " 'the',\n",
       " 'ir',\n",
       " 'name',\n",
       " 'news',\n",
       " 'article',\n",
       " 'length',\n",
       " 'dtype',\n",
       " 'object']"
      ]
     },
     "execution_count": 117,
     "metadata": {},
     "output_type": "execute_result"
    }
   ],
   "source": [
    "nlp_data"
   ]
  },
  {
   "cell_type": "code",
   "execution_count": 118,
   "metadata": {},
   "outputs": [],
   "source": [
    "#We join our data\n",
    "nlp_data = \" \".join(nlp_data)"
   ]
  },
  {
   "cell_type": "code",
   "execution_count": 120,
   "metadata": {},
   "outputs": [
    {
     "data": {
      "text/plain": [
       "'the first oneplus phone to support wireless ch twitter ceo jack dorsey ha pledged billion google trend data show the search for livin apple in a statement to axios said it plan to apple will organise a company wide virtual mee a unilateral two week ceasefire called by the doctor in zimbabwe have filed a lawsuit again all the lawmaker in botswana s parliament hav maritime and mercantile international mmi a mustafa al kadhimi who is the chief of the ir name news article length dtype object'"
      ]
     },
     "execution_count": 120,
     "metadata": {},
     "output_type": "execute_result"
    }
   ],
   "source": [
    "nlp_data"
   ]
  },
  {
   "cell_type": "markdown",
   "metadata": {},
   "source": [
    "#  Punctuation Removal,  lower case conversion, Tokenization and Lemmatization"
   ]
  },
  {
   "cell_type": "code",
   "execution_count": 122,
   "metadata": {},
   "outputs": [],
   "source": [
    "import re\n",
    "description_list = []\n",
    "for description in data[\"news_article\"]:\n",
    "    description = re.sub(\"[^a-zA-Z]\",\" \",description)\n",
    "    description = description.lower()   \n",
    "    description = nlp.word_tokenize(description)\n",
    "    lemma = nlp.WordNetLemmatizer()\n",
    "    description = [ lemma.lemmatize(word) for word in description]\n",
    "    description = \" \".join(description)\n",
    "    description_list.append(description)"
   ]
  },
  {
   "cell_type": "markdown",
   "metadata": {},
   "source": [
    "# Extracting Features using covent vectorizer"
   ]
  },
  {
   "cell_type": "code",
   "execution_count": 123,
   "metadata": {},
   "outputs": [
    {
     "name": "stdout",
     "output_type": "stream",
     "text": [
      "the most using 3000 words: ['abd', 'able', 'absolutely', 'access', 'accessible', 'according', 'account', 'accurate', 'accused', 'action', 'adair', 'added', 'addicted', 'addiction', 'adequate', 'adil', 'admitted', 'aged', 'ago', 'agree', 'agriculture', 'ahead', 'aic', 'aid', 'aim', 'aimed', 'airbrushed', 'airline', 'akhtar', 'al', 'alcohol', 'alex', 'alipay', 'allah', 'allegation', 'allow', 'allowed', 'allows', 'amazon', 'american', 'amid', 'android', 'animal', 'announced', 'ant', 'anthony', 'anti', 'anytime', 'apart', 'apologised', 'app', 'appearing', 'apple', 'appliance', 'application', 'apply', 'appointment', 'apps', 'april', 'arabia', 'area', 'arises', 'army', 'arrested', 'ask', 'asked', 'assigned', 'associate', 'association', 'attack', 'attention', 'attracted', 'attributed', 'auctioning', 'australia', 'australian', 'automated', 'automatic', 'available', 'avoid', 'axios', 'bachelet', 'backed', 'ball', 'bangalore', 'banned', 'barham', 'barring', 'based', 'batsman', 'batting', 'bayley', 'bcci', 'bed', 'began', 'begin', 'behaviour', 'believe', 'benjamin', 'best', 'better', 'bid', 'big', 'biggest', 'billing', 'billion', 'bit', 'blame', 'blank', 'blatter', 'bloc', 'block', 'blocking', 'bloomberg', 'board', 'body', 'border', 'boris', 'borne', 'botswana', 'bought', 'bowler', 'bowling', 'braille', 'brazilian', 'break', 'breathe', 'breathing', 'breeding', 'bribed', 'bringing', 'british', 'brock', 'brompton', 'browser', 'build', 'business', 'buttler', 'buy', 'cable', 'california', 'called', 'calling', 'cam', 'came', 'cameraman', 'campus', 'canada', 'capability', 'cape', 'captain', 'captioned', 'care', 'caretaker', 'carry', 'cart', 'case', 'castaneda', 'categorically', 'cause', 'causing', 'cdc', 'ceasefire', 'center', 'centre', 'ceo', 'challenge', 'champ', 'champion', 'championship', 'change', 'charge', 'charger', 'charging', 'charity', 'chat', 'cheque', 'cheteshwar', 'chicago', 'chief', 'china', 'chinese', 'choice', 'chose', 'citing', 'citizen', 'city', 'civilisation', 'claim', 'claimed', 'clarke', 'class', 'classified', 'clean', 'client', 'clinical', 'clip', 'clock', 'closed', 'closely', 'closing', 'closure', 'club', 'cm', 'coach', 'coalition', 'collapse', 'college', 'collision', 'com', 'combination', 'come', 'commitment', 'companion', 'company', 'compatible', 'compete', 'competition', 'complaint', 'completely', 'computer', 'concern', 'concert', 'conclusion', 'conducting', 'conductive', 'conferencing', 'confirmed', 'conflict', 'connected', 'considered', 'constituting', 'constitution', 'consultant', 'consumption', 'contact', 'contain', 'conte', 'content', 'continuous', 'control', 'controller', 'conversation', 'cook', 'copper', 'coronarun', 'coronavirus', 'corp', 'corporate', 'correction', 'corruption', 'country', 'county', 'couple', 'course', 'court', 'coverage', 'covid', 'create', 'created', 'crew', 'cricket', 'cricketer', 'cricketing', 'cried', 'crisis', 'critical', 'criticised', 'crore', 'crush', 'cso', 'cup', 'cured', 'currently', 'custom', 'cut', 'dancing', 'data', 'date', 'daughter', 'david', 'day', 'deal', 'dealing', 'dear', 'death', 'debt', 'decision', 'declared', 'decrease', 'defeating', 'delayed', 'deliver', 'delivering', 'delivers', 'delivery', 'denied', 'designate', 'designated', 'designed', 'desktop', 'dev', 'developing', 'device', 'dhoni', 'did', 'didn', 'die', 'died', 'different', 'directly', 'disclosing', 'discussed', 'disease', 'display', 'disregard', 'dmitry', 'doctor', 'doe', 'doesn', 'dog', 'doing', 'dollar', 'domain', 'don', 'donald', 'donate', 'donated', 'donating', 'donation', 'dorsey', 'dot', 'double', 'downing', 'download', 'downward', 'draft', 'drew', 'drieu', 'drug', 'dubai', 'dying', 'early', 'easier', 'easily', 'easy', 'economic', 'edison', 'editor', 'effort', 'email', 'emergency', 'emirate', 'employee', 'enable', 'encrypted', 'end', 'ended', 'engage', 'engine', 'engineer', 'england', 'enjoy', 'enjoying', 'ensure', 'entered', 'entitled', 'entry', 'epicentre', 'epidemic', 'equipment', 'eric', 'estate', 'eu', 'european', 'event', 'ex', 'exclusively', 'executive', 'exhale', 'existential', 'expected', 'experience', 'experimental', 'experimentation', 'expert', 'exported', 'expressing', 'extend', 'extending', 'extra', 'extreme', 'face', 'facebook', 'facility', 'fact', 'factory', 'failed', 'fall', 'fallout', 'family', 'famous', 'far', 'fast', 'fauci', 'favela', 'favelas', 'fear', 'feature', 'featured', 'february', 'fell', 'felt', 'fifa', 'fight', 'fighting', 'figure', 'filed', 'final', 'finance', 'firm', 'fixing', 'flawless', 'flight', 'following', 'follows', 'food', 'footballer', 'forbes', 'forever', 'form', 'format', 'fortune', 'forward', 'founded', 'founder', 'foxconn', 'free', 'friday', 'friend', 'fund', 'furlough', 'future', 'game', 'gamequitters', 'gaming', 'gang', 'gavaskar', 'gave', 'gel', 'general', 'generation', 'geo', 'german', 'germany', 'gesture', 'giant', 'gift', 'gisat', 'giuseppe', 'given', 'giving', 'global', 'globally', 'going', 'golf', 'good', 'google', 'got', 'gould', 'government', 'gps', 'graduation', 'gravest', 'grocery', 'group', 'gslv', 'guideline', 'guterres', 'ha', 'half', 'hand', 'handled', 'handset', 'harbhajan', 'hardest', 'hardly', 'hardware', 'harefield', 'harvest', 'hasn', 'having', 'health', 'heart', 'hefty', 'held', 'helmet', 'help', 'henrique', 'high', 'highlighting', 'hire', 'history', 'hit', 'hitting', 'hold', 'holding', 'home', 'homemade', 'hoped', 'hospital', 'hospitalised', 'hospitality', 'host', 'hotel', 'houthi', 'human', 'hydroxychloroquine', 'hz', 'ian', 'icc', 'icon', 'icu', 'idea', 'identified', 'illness', 'imaging', 'impaired', 'implication', 'important', 'imported', 'imposed', 'impressed', 'improving', 'inadequate', 'inadmissible', 'including', 'incomprehensible', 'increase', 'increased', 'indefinitely', 'india', 'indian', 'indie', 'individual', 'indoors', 'infected', 'infection', 'infectious', 'influenza', 'information', 'informed', 'inhale', 'ink', 'instagram', 'instance', 'intel', 'intelligence', 'intensive', 'interaction', 'interactive', 'intern', 'internal', 'international', 'internship', 'introducing', 'invoice', 'involved', 'io', 'iphone', 'ipl', 'iran', 'iraqi', 'isn', 'isolate', 'isolation', 'israel', 'isro', 'issue', 'italian', 'italy', 'item', 'jack', 'jail', 'january', 'jersey', 'jewellery', 'johnson', 'joint', 'jos', 'jose', 'junior', 'just', 'justify', 'kadhimi', 'kaif', 'kane', 'kapil', 'kashyap', 'kenya', 'kenyan', 'kerala', 'key', 'keyboard', 'kid', 'kind', 'km', 'kohli', 'korea', 'kremlin', 'lakh', 'laptop', 'larger', 'largest', 'late', 'later', 'latif', 'launch', 'launched', 'lawmaker', 'lawsuit', 'layer', 'layout', 'le', 'league', 'led', 'legally', 'legislation', 'lesnar', 'letter', 'license', 'licked', 'licking', 'life', 'lifted', 'light', 'like', 'linked', 'liquor', 'live', 'liverpool', 'livestock', 'living', 'llc', 'load', 'local', 'lockdown', 'london', 'longer', 'lost', 'lot', 'love', 'loved', 'luiz', 'lung', 'machinery', 'maharashtra', 'mahdi', 'mail', 'major', 'make', 'makeover', 'making', 'mandetta', 'manicure', 'manufactured', 'manufacturer', 'manufacturing', 'marathon', 'march', 'maritime', 'mark', 'market', 'marriage', 'masisi', 'mask', 'mass', 'massive', 'match', 'matter', 'mcintyre', 'meat', 'medical', 'medicine', 'medium', 'medtronic', 'meet', 'meeting', 'member', 'memory', 'mercantile', 'mercedes', 'merchandise', 'message', 'michael', 'michel', 'michelle', 'microcontroller', 'microsoft', 'mid', 'militia', 'million', 'mind', 'minimum', 'minister', 'ministry', 'minor', 'minute', 'misinformation', 'missing', 'mistake', 'mit', 'mix', 'mmi', 'mobile', 'modi', 'mohammad', 'mokgweetsi', 'monday', 'money', 'monitored', 'month', 'moore', 'moved', 'mushtaq', 'music', 'muslim', 'mustafa', 'nairobi', 'named', 'namespace', 'narendra', 'nation', 'national', 'natural', 'nearly', 'need', 'needed', 'needing', 'negative', 'neighbourhood', 'netanyahu', 'network', 'new', 'night', 'nio', 'non', 'normal', 'note', 'nottingham', 'november', 'npe', 'number', 'numerous', 'nyt', 'object', 'obligation', 'obstacle', 'odi', 'odis', 'oesophageal', 'official', 'old', 'onboard', 'oneplus', 'ongoing', 'online', 'onmail', 'onsite', 'opener', 'operating', 'operation', 'opinion', 'opportunity', 'ordered', 'organisation', 'organise', 'organised', 'origin', 'outbreak', 'outside', 'overall', 'owned', 'owner', 'oxfam', 'oxygen', 'pace', 'package', 'pad', 'painting', 'pakistan', 'pandemic', 'papa', 'parliament', 'parliamentarian', 'partner', 'party', 'parupalli', 'passion', 'passport', 'past', 'patient', 'pawn', 'pay', 'payment', 'pc', 'peak', 'people', 'permission', 'persistent', 'person', 'personal', 'personnel', 'peskov', 'pet', 'peter', 'phase', 'phenomenal', 'phew', 'phone', 'photo', 'pick', 'piece', 'pinarayi', 'piston', 'plan', 'planned', 'platform', 'platini', 'play', 'player', 'playing', 'pledged', 'pm', 'police', 'population', 'portal', 'position', 'positive', 'possible', 'postponed', 'potential', 'poverty', 'ppe', 'ppes', 'practice', 'praised', 'praying', 'precaution', 'prefer', 'premier', 'president', 'prevent', 'prevention', 'previously', 'prime', 'prisoner', 'privacy', 'private', 'pro', 'process', 'processor', 'product', 'production', 'professor', 'progress', 'proposal', 'proposed', 'protect', 'protected', 'protective', 'protest', 'providing', 'proxy', 'psychiatrist', 'published', 'pujara', 'push', 'pushing', 'qi', 'quarantine', 'quarantined', 'question', 'race', 'raise', 'raised', 'rajasthan', 'ran', 'rashid', 'reaching', 'reactivating', 'read', 'ready', 'real', 'reason', 'rebel', 'recalling', 'receipt', 'received', 'receiving', 'recently', 'recipient', 'record', 'recorded', 'recovery', 'recreate', 'refresh', 'register', 'regular', 'relapsing', 'related', 'relief', 'remain', 'remember', 'remove', 'report', 'reported', 'representing', 'represents', 'repressive', 'rescue', 'resident', 'residential', 'resigned', 'respiratory', 'responding', 'response', 'resumed', 'retained', 'reuters', 'revealed', 'revenue', 'reverse', 'reversed', 'reviewed', 'revised', 'richards', 'rig', 'right', 'rise', 'rishi', 'rogue', 'rohit', 'role', 'rolling', 'room', 'royal', 'run', 'runner', 'running', 'runup', 'russia', 'russian', 'sachin', 'safe', 'safety', 'said', 'salaried', 'sale', 'salih', 'sandpaper', 'saqlain', 'satellite', 'saturday', 'saudi', 'save', 'saving', 'saw', 'say', 'saying', 'scandal', 'scared', 'scenario', 'scientist', 'screened', 'search', 'season', 'secretary', 'security', 'seeing', 'seen', 'self', 'send', 'sending', 'sensitive', 'sepp', 'serie', 'series', 'service', 'set', 'setting', 'seven', 'shake', 'shame', 'shane', 'share', 'shared', 'shareholder', 'sharma', 'shirt', 'shoaib', 'shopping', 'shortage', 'showed', 'showing', 'shuttler', 'significant', 'similar', 'singh', 'single', 'sit', 'site', 'situation', 'skipper', 'sledge', 'slow', 'smackdown', 'small', 'smartphones', 'smith', 'social', 'soft', 'software', 'solo', 'son', 'soon', 'sorry', 'sound', 'source', 'south', 'speak', 'speaking', 'specialised', 'specialist', 'spectator', 'speed', 'spike', 'spinner', 'spokesman', 'spotted', 'sprayed', 'spread', 'spreading', 'square', 'staff', 'stake', 'stamos', 'standard', 'start', 'started', 'state', 'statement', 'stating', 'statistic', 'stay', 'staying', 'stencil', 'steve', 'store', 'streamed', 'street', 'strengthening', 'student', 'subject', 'submit', 'subsidiary', 'sucked', 'sued', 'suggested', 'suifenhe', 'summer', 'sunak', 'sunday', 'sunil', 'supermarket', 'support', 'supposed', 'surface', 'surfaced', 'surrey', 'suspect', 'suspended', 'suspending', 'symbol', 'symptom', 'table', 'taken', 'taking', 'talk', 'talkback', 'talking', 'tamper', 'tank', 'tap', 'tapped', 'team', 'tech', 'technical', 'technically', 'telangana', 'tell', 'tendulkar', 'termed', 'terrorist', 'tesla', 'test', 'tested', 'thank', 'thing', 'think', 'thirty', 'threat', 'thursday', 'tie', 'tiktok', 'till', 'tim', 'time', 'timeline', 'today', 'told', 'toll', 'took', 'topper', 'total', 'touching', 'tourist', 'tournament', 'town', 'tracker', 'trading', 'traffic', 'trafficker', 'train', 'training', 'transferred', 'transmit', 'treatment', 'trend', 'trent', 'truly', 'trump', 'trying', 'tuesday', 'tuned', 'turbochargers', 'turmoil', 'turned', 'tv', 'tweeted', 'twitter', 'uae', 'uber', 'uefa', 'ui', 'uk', 'umpire', 'unauthorised', 'understand', 'unilateral', 'union', 'unit', 'united', 'university', 'unwashed', 'update', 'urged', 'urgency', 'use', 'used', 'user', 'using', 'utilised', 'value', 've', 'ventilator', 'victory', 'video', 'view', 'vijayan', 'viral', 'virat', 'virtual', 'virus', 'visually', 'viv', 'voice', 'volume', 'wa', 'wage', 'wake', 'want', 'wanted', 'waqar', 'war', 'ward', 'warne', 'warner', 'warp', 'wasn', 'watch', 'watching', 'way', 'weakness', 'wealth', 'wearing', 'webinar', 'wednesday', 'week', 'west', 'whatsapp', 'wicket', 'wicketkeeper', 'wide', 'widely', 'wildlife', 'williamson', 'window', 'wireless', 'wisconsin', 'woman', 'won', 'wore', 'work', 'worker', 'working', 'world', 'worldwide', 'worst', 'worth', 'wouldn', 'wrestlemania', 'written', 'wrong', 'wuhan', 'wwe', 'year', 'yemen', 'younis', 'youtube', 'yuan', 'yuvraj', 'zealand', 'zimbabwe', 'zoom', 'zuckerberg']\n"
     ]
    }
   ],
   "source": [
    "from sklearn.feature_extraction.text import CountVectorizer \n",
    "max_features = 3000 #We use the most common word\n",
    "count_vectorizer = CountVectorizer(max_features = max_features, stop_words = \"english\")\n",
    "sparce_matrix = count_vectorizer.fit_transform(description_list).toarray()\n",
    "print(\"the most using {} words: {}\".format(max_features,count_vectorizer.get_feature_names()))"
   ]
  },
  {
   "cell_type": "code",
   "execution_count": null,
   "metadata": {},
   "outputs": [],
   "source": []
  },
  {
   "cell_type": "code",
   "execution_count": 127,
   "metadata": {},
   "outputs": [],
   "source": [
    "#We separate our data is train and test\n",
    "y = data.iloc[:,1].values   # male or female classes\n",
    "x = sparce_matrix\n",
    "from sklearn.model_selection import train_test_split\n",
    "x_train, x_test, y_train, y_test = train_test_split(x,y, test_size = 0.3, random_state = 42)"
   ]
  },
  {
   "cell_type": "markdown",
   "metadata": {},
   "source": [
    "# Building model"
   ]
  },
  {
   "cell_type": "code",
   "execution_count": 128,
   "metadata": {},
   "outputs": [
    {
     "name": "stdout",
     "output_type": "stream",
     "text": [
      "the accuracy of our model: 0.8181818181818182\n"
     ]
    }
   ],
   "source": [
    "#We make model for predict\n",
    "from sklearn.naive_bayes import MultinomialNB\n",
    "nb =  MultinomialNB(alpha=0.7)\n",
    "nb.fit(x_train,y_train)\n",
    "print(\"the accuracy of our model: {}\".format(nb.score(x_test,y_test)))"
   ]
  },
  {
   "cell_type": "code",
   "execution_count": 129,
   "metadata": {},
   "outputs": [
    {
     "name": "stdout",
     "output_type": "stream",
     "text": [
      "our accuracy is: 0.6363636363636364\n"
     ]
    }
   ],
   "source": [
    "from sklearn.linear_model import LogisticRegression\n",
    "lr = LogisticRegression(max_iter = 200)\n",
    "lr.fit(x_train,y_train)\n",
    "print(\"our accuracy is: {}\".format(lr.score(x_test,y_test)))"
   ]
  },
  {
   "cell_type": "code",
   "execution_count": 133,
   "metadata": {},
   "outputs": [
    {
     "name": "stdout",
     "output_type": "stream",
     "text": [
      "With KNN (K=3) accuracy is:  0.5909090909090909\n"
     ]
    }
   ],
   "source": [
    "from sklearn.neighbors import KNeighborsClassifier\n",
    "knn = KNeighborsClassifier(n_neighbors = 2)\n",
    "knn.fit(x_train,y_train)\n",
    "#print('Prediction: {}'.format(prediction))\n",
    "print('With KNN (K=3) accuracy is: ',knn.score(x_test,y_test))"
   ]
  },
  {
   "cell_type": "code",
   "execution_count": null,
   "metadata": {},
   "outputs": [],
   "source": []
  }
 ],
 "metadata": {
  "kernelspec": {
   "display_name": "Python 3",
   "language": "python",
   "name": "python3"
  },
  "language_info": {
   "codemirror_mode": {
    "name": "ipython",
    "version": 3
   },
   "file_extension": ".py",
   "mimetype": "text/x-python",
   "name": "python",
   "nbconvert_exporter": "python",
   "pygments_lexer": "ipython3",
   "version": "3.7.6"
  }
 },
 "nbformat": 4,
 "nbformat_minor": 4
}
